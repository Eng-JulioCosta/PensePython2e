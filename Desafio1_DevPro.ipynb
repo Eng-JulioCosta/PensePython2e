{
  "nbformat": 4,
  "nbformat_minor": 0,
  "metadata": {
    "colab": {
      "name": "Desafio1_DevPro",
      "provenance": [],
      "authorship_tag": "ABX9TyPLEKLeGzaLTsGmzfGzmo51",
      "include_colab_link": true
    },
    "kernelspec": {
      "name": "python3",
      "display_name": "Python 3"
    },
    "language_info": {
      "name": "python"
    }
  },
  "cells": [
    {
      "cell_type": "markdown",
      "metadata": {
        "id": "view-in-github",
        "colab_type": "text"
      },
      "source": [
        "<a href=\"https://colab.research.google.com/github/Eng-JulioCosta/PensePython2e/blob/master/Desafio1_DevPro.ipynb\" target=\"_parent\"><img src=\"https://colab.research.google.com/assets/colab-badge.svg\" alt=\"Open In Colab\"/></a>"
      ]
    },
    {
      "cell_type": "markdown",
      "metadata": {
        "id": "bGBDY5tAZSpE"
      },
      "source": [
        "**1) Faça um Programa para uma loja de tintas. O programa deverá pedir o tamanho em metros quadrados da área a ser pintada. Considere que a cobertura da tinta é de 1 litro para cada 6 metros quadrados e que a tinta é vendida em latas de 18 litros, que custam 80,00 ou em galões de 3,6 litros, que custam 25,00.**\n",
        "\n",
        "*Informe ao usuário as quantidades de tinta a serem compradas e os respectivos preços em 3 situações:*\n",
        "\n",
        "\n",
        "1. *Comprar apenas latas de 18 litros;*\n",
        "2. *Comprar apenas galões de 3,6 litros;*\n",
        "3. *Misturar latas e galões, de forma que o desperdício de tinta seja menor;*\n",
        "4. *Acrescente 10% de folga e sempre arredonde os valores para cima, isto é, considere latas cheias.*   \n",
        "\n"
      ]
    },
    {
      "cell_type": "code",
      "metadata": {
        "colab": {
          "base_uri": "https://localhost:8080/"
        },
        "id": "eF8JoHdZZwnY",
        "outputId": "1100b459-a9c1-4c5d-e233-40d089b1c207"
      },
      "source": [
        "import math\n",
        "\n",
        "# Variáveis relacionadas à questão\n",
        "area_para_pintar = int(input('Digite a área do local a ser pintada em m2: ')) # Área em metro quadrado a ser pintada\n",
        "area_de_margem_de_erro = area_para_pintar * 1.1 # 1.1 de margem de erro * a área a ser pintada\n",
        "litros_por_metro_quadrado = 6 # Metros quadrados pintados por litro\n",
        "litros_a_serem_usados = area_de_margem_de_erro / litros_por_metro_quadrado # Razão entre á area com a margem de erro e os metros quadrados pintados por litro \n",
        "\n",
        "# Variáveis relacionadas às latas\n",
        "litros_por_lata = 18 # Volume da lata\n",
        "quantidade_de_latas = math.ceil(litros_a_serem_usados / litros_por_lata) # Método ceil, do pacote math, determina o teto entre litros para uso e em relação à lata\n",
        "custo_de_latas = quantidade_de_latas * 80 # Custo unitário da lata R$ 80,00\n",
        "print(f'Você deverá usar {quantidade_de_latas} latas de 18 litros, no valor de R$ {custo_de_latas}')\n",
        "\n",
        "# Variáveis relacionadas aos galões\n",
        "litros_por_galao = 3.6 # Volume do galão\n",
        "quantidade_de_galao = math.ceil(litros_a_serem_usados / litros_por_galao) # Método ceil, do pacote math, determina o teto entre litros para uso e em relação ao galão\n",
        "custo_de_galao = quantidade_de_galao * 25 # Custo unitário da lata R$ 25,00\n",
        "print(f'Você deverá usar {quantidade_de_galao} latas de 3,6 litros, no valor de R$ {custo_de_galao}')\n",
        "\n",
        "# Orçamento composto para reduzir custos\n",
        "quantidade_de_latas = math.floor(litros_a_serem_usados / litros_por_lata) # Método floor, do pacote math, determina o piso entre litros para uso e em relação à lata  \n",
        "custo_de_latas = quantidade_de_latas * 80 # Custo unitário da lata R$ 80,00\n",
        "litros_faltantes = litros_a_serem_usados % litros_por_lata # Quantidade de litros exatos para pintar, sendo o resto da divisão\n",
        "quantidade_de_galao = math.ceil(litros_faltantes / litros_por_galao) # Método ceil, do pacote math, determina o teto entre litros faltantes para completar com a compra de galões\n",
        "custo_de_galao = quantidade_de_galao * 25 # Custo unitário da lata R$ 25,00\n",
        "\n",
        "custo_total = custo_de_latas + custo_de_galao # Custo total da reforma na pintura\n",
        "\n",
        "print(f'Você deverá usar {quantidade_de_latas} latas de 18 litros mais {quantidade_de_galao} galões de 3,6 litros, no valor de R$ {custo_total} ')"
      ],
      "execution_count": 15,
      "outputs": [
        {
          "output_type": "stream",
          "text": [
            "Digite a área do local a ser pintada em m2: 200\n",
            "Você deverá usar 3 latas de 18 litros, no valor de R$ 240\n",
            "Você deverá usar 11 latas de 3,6 litros, no valor de R$ 275\n",
            "VocÊ deverá usar 2 latas de 18 litros mais 1 galões de 3,6 litros, no valor de R$ 185 \n"
          ],
          "name": "stdout"
        }
      ]
    }
  ]
}